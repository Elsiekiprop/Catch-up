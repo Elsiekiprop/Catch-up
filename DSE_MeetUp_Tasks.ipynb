{
  "nbformat": 4,
  "nbformat_minor": 0,
  "metadata": {
    "colab": {
      "provenance": [],
      "authorship_tag": "ABX9TyMqgU5W9oNySPeQYOMoj0dB",
      "include_colab_link": true
    },
    "kernelspec": {
      "name": "python3",
      "display_name": "Python 3"
    },
    "language_info": {
      "name": "python"
    }
  },
  "cells": [
    {
      "cell_type": "markdown",
      "metadata": {
        "id": "view-in-github",
        "colab_type": "text"
      },
      "source": [
        "<a href=\"https://colab.research.google.com/github/Elsiekiprop/Catch-up/blob/main/DSE_MeetUp_Tasks.ipynb\" target=\"_parent\"><img src=\"https://colab.research.google.com/assets/colab-badge.svg\" alt=\"Open In Colab\"/></a>"
      ]
    },
    {
      "cell_type": "code",
      "execution_count": null,
      "metadata": {
        "id": "J9A1IDbw_M0Z"
      },
      "outputs": [],
      "source": [
        "#Importing necessary packages\n",
        "import pandas as pd\n",
        "import numpy as np\n"
      ]
    },
    {
      "cell_type": "code",
      "source": [
        "#TASK 1- API\n",
        "import requests\n",
        "\n",
        "url = 'https://randomuser.me/api/'\n",
        "params = {\n",
        "    'results': 100,\n",
        "    'gender': 'male',\n",
        "}\n",
        "\n",
        "response = requests.get(url, params=params)\n",
        "data = response.json()['results']\n",
        "\n",
        "for i, user in enumerate(data):\n",
        "    print(f'{i+1}. {user[\"name\"][\"first\"]} {user[\"name\"][\"last\"]}')\n"
      ],
      "metadata": {
        "colab": {
          "base_uri": "https://localhost:8080/"
        },
        "id": "t-87bXUcKQrc",
        "outputId": "b0af6cde-ee37-4e88-f075-b624ef17fbe4"
      },
      "execution_count": 1,
      "outputs": [
        {
          "output_type": "stream",
          "name": "stdout",
          "text": [
            "1. Franjo Bell\n",
            "2. Jordi Moya\n",
            "3. Jeff Fletcher\n",
            "4. Jaime Medina\n",
            "5. Lorenzo Santiago\n",
            "6. Antonio Stevens\n",
            "7. Edward Thomas\n",
            "8. Eloy Murillo\n",
            "9. Macit Sarıoğlu\n",
            "10. Sasa Vidal\n",
            "11. Oliver Pulkkinen\n",
            "12. Eeli Karjala\n",
            "13. Girish Saniel\n",
            "14. Jimi Manner\n",
            "15. Svirid Pelenskiy\n",
            "16. Jayanth Saldanha\n",
            "17. Leonard Fournier\n",
            "18. Azuma Pizarro\n",
            "19. Evert-Jan Van Zwam\n",
            "20. Iker Lorenzo\n",
            "21. David Turner\n",
            "22. Shaun Thompson\n",
            "23. Rivelino Rocha\n",
            "24. Fjodor Doornebosch\n",
            "25. Eduardo Delgado\n",
            "26. Eren Storsveen\n",
            "27. Alexander Kristensen\n",
            "28. Upkaar Sullad\n",
            "29. Alberto Torres\n",
            "30. Alvaro Corrales\n",
            "31. Alfonso Monroy\n",
            "32. Harold Curtis\n",
            "33. Ryan Caldwell\n",
            "34. Erik Simmmons\n",
            "35. August Christensen\n",
            "36. André Ruge\n",
            "37. Gregorio Gil\n",
            "38. Xavier Walker\n",
            "39. Nikolaj Johansen\n",
            "40. Gianluca Rey\n",
            "41. Vilho Jokela\n",
            "42. Tyler Walker\n",
            "43. Pratyush Bangera\n",
            "44. Andrés Menéndez\n",
            "45. Sølve Stigen\n",
            "46. Nathaniel Bennett\n",
            "47. Adem Biçer\n",
            "48. Remo Nielsen\n",
            "49. Julian Robertson\n",
            "50. Derek Carter\n",
            "51. Juliën Flikweert\n",
            "52. حسین کریمی\n",
            "53. Alfredo Cano\n",
            "54. Freddie Moore\n",
            "55. Aurélien Bertrand\n",
            "56. آدرین کریمی\n",
            "57. Victor Lévesque\n",
            "58. Sepp Gröger\n",
            "59. پوریا کریمی\n",
            "60. Leo Saarinen\n",
            "61. Heinrich David\n",
            "62. Emil Olsen\n",
            "63. Fred Moreno\n",
            "64. Pieter-Bas Boshuizen\n",
            "65. Clemente Mireles\n",
            "66. Aaron Lucero\n",
            "67. Jovica Karadžić\n",
            "68. Jacob Mendoza\n",
            "69. Aloís Martins\n",
            "70. Claude Pierce\n",
            "71. Harrison Martin\n",
            "72. Warinder Dsouza\n",
            "73. Noah Ramos\n",
            "74. محمد نجاتی\n",
            "75. Edward Walker\n",
            "76. Hamza Stranden\n",
            "77. Oleg Balickiy\n",
            "78. Akhil Kulkarni\n",
            "79. Florian Schuster\n",
            "80. Haakon Tharaldsen\n",
            "81. Liberto Jesus\n",
            "82. Amandus Strømstad\n",
            "83. Timoteo Vela\n",
            "84. Avram Kalinić\n",
            "85. Liam Bonnet\n",
            "86. Toni Olivier\n",
            "87. Theodoros Sommerfeld\n",
            "88. Gabriël Van Kilsdonk\n",
            "89. Siniša Maksimović\n",
            "90. Valtteri Palo\n",
            "91. Gerold Nitz\n",
            "92. Macit Kasapoğlu\n",
            "93. Matthew Daniels\n",
            "94. Willard Wallace\n",
            "95. رادین صدر\n",
            "96. Matthew Bergeron\n",
            "97. Emre Kavaklıoğlu\n",
            "98. Quiliano Rocha\n",
            "99. Lucas Larsen\n",
            "100. Luis Manuel Nazario\n"
          ]
        }
      ]
    },
    {
      "cell_type": "code",
      "source": [],
      "metadata": {
        "id": "6jrL7al5SINJ"
      },
      "execution_count": null,
      "outputs": []
    },
    {
      "cell_type": "code",
      "source": [
        "import requests\n",
        "url = 'https://randomuser.me/api/'\n",
        "#Specify the parameters\n",
        "params = {\n",
        "    'results': 100,\n",
        "    'gender': 'male',\n",
        "}\n",
        "response = requests.get(url, params=params)\n",
        "data = response.json()['results']\n",
        "for i, user in enumerate(data):\n",
        "    print(f'{i+1}. {user[\"name\"][\"title\"]} {user[\"name\"][\"first\"]} {user[\"name\"][\"last\"]} {user[\"email\"]} {user[\"gender\"]}')"
      ],
      "metadata": {
        "colab": {
          "base_uri": "https://localhost:8080/"
        },
        "id": "dCM5CkH1NQcb",
        "outputId": "bbeae554-041c-4054-80fc-df9856785f86"
      },
      "execution_count": 2,
      "outputs": [
        {
          "output_type": "stream",
          "name": "stdout",
          "text": [
            "1. Mr Milton Hunter milton.hunter@example.com male\n",
            "2. Mr Matias Koskela matias.koskela@example.com male\n",
            "3. Mr Grgur Vilotić grgur.vilotic@example.com male\n",
            "4. Mr Ethan Andersen ethan.andersen@example.com male\n",
            "5. Mr Axel Michel axel.michel@example.com male\n",
            "6. Mr Lenny Morin lenny.morin@example.com male\n",
            "7. Mr Fidel Bustos fidel.bustos@example.com male\n",
            "8. Mr Aapo Kallio aapo.kallio@example.com male\n",
            "9. Monsieur Simon Perrin simon.perrin@example.com male\n",
            "10. Mr Olivier Wong olivier.wong@example.com male\n",
            "11. Mr محمد علیزاده mhmd.aalyzdh@example.com male\n",
            "12. Mr محمدمهدی کریمی mhmdmhdy.khrymy@example.com male\n",
            "13. Mr Miro Niskanen miro.niskanen@example.com male\n",
            "14. Mr Eurico da Cunha eurico.dacunha@example.com male\n",
            "15. Mr Floyd Henry floyd.henry@example.com male\n",
            "16. Monsieur Torsten Lecomte torsten.lecomte@example.com male\n",
            "17. Mr Ryan Cooper ryan.cooper@example.com male\n",
            "18. Mr Heine Hessen heine.hessen@example.com male\n",
            "19. Mr Muhammad Øverås muhammad.overas@example.com male\n",
            "20. Mr Hector Roche hector.roche@example.com male\n",
            "21. Mr Dustin Alexander dustin.alexander@example.com male\n",
            "22. Monsieur Lino Mercier lino.mercier@example.com male\n",
            "23. Mr Yazan Sandtorv yazan.sandtorv@example.com male\n",
            "24. Mr Mehmet Aydan mehmet.aydan@example.com male\n",
            "25. Mr Umut Yazıcı umut.yazici@example.com male\n",
            "26. Mr Adrian Powell adrian.powell@example.com male\n",
            "27. Mr Villads Nielsen villads.nielsen@example.com male\n",
            "28. Mr Theo Williams theo.williams@example.com male\n",
            "29. Mr Ryan Lavoie ryan.lavoie@example.com male\n",
            "30. Mr Jorge Castillo jorge.castillo@example.com male\n",
            "31. Mr Manfred Zeitler manfred.zeitler@example.com male\n",
            "32. Mr Ege Koç ege.koc@example.com male\n",
            "33. Mr Vitálio Rodrigues vitalio.rodrigues@example.com male\n",
            "34. Mr Ulrik Vikane ulrik.vikane@example.com male\n",
            "35. Mr Kajus Grøtan kajus.grotan@example.com male\n",
            "36. Mr Albert Burns albert.burns@example.com male\n",
            "37. Mr Radoje Polić radoje.polic@example.com male\n",
            "38. Mr Thomas Pelletier thomas.pelletier@example.com male\n",
            "39. Mr Corneel Abels corneel.abels@example.com male\n",
            "40. Mr Fletcher Kumar fletcher.kumar@example.com male\n",
            "41. Mr Noah Harrison noah.harrison@example.com male\n",
            "42. Mr Bastien Leroy bastien.leroy@example.com male\n",
            "43. Mr Onni Haataja onni.haataja@example.com male\n",
            "44. Mr Magnus Johansen magnus.johansen@example.com male\n",
            "45. Mr Murat Akyürek murat.akyurek@example.com male\n",
            "46. Mr Adem Aşıkoğlu adem.asikoglu@example.com male\n",
            "47. Mr Batur Keseroğlu batur.keseroglu@example.com male\n",
            "48. Mr Ajay Holla ajay.holla@example.com male\n",
            "49. Mr Petar Ranft petar.ranft@example.com male\n",
            "50. Monsieur Remo Noel remo.noel@example.com male\n",
            "51. Monsieur Kai Lefevre kai.lefevre@example.com male\n",
            "52. Mr Guy Obrien guy.obrien@example.com male\n",
            "53. Mr Rolf Berhe rolf.berhe@example.com male\n",
            "54. Mr Liban Laanstra liban.laanstra@example.com male\n",
            "55. Mr Ali Tekand ali.tekand@example.com male\n",
            "56. Mr Jeremy Taylor jeremy.taylor@example.com male\n",
            "57. Mr Tristan Mortensen tristan.mortensen@example.com male\n",
            "58. Mr Nils Vidal nils.vidal@example.com male\n",
            "59. Mr Fausto Duarte fausto.duarte@example.com male\n",
            "60. Monsieur Janis Chevalier janis.chevalier@example.com male\n",
            "61. Mr Giray Hamzaoğlu giray.hamzaoglu@example.com male\n",
            "62. Mr Oğuzhan Van Roessel oguzhan.vanroessel@example.com male\n",
            "63. Mr Aron Thorvaldsen aron.thorvaldsen@example.com male\n",
            "64. Mr Santiago Pascual santiago.pascual@example.com male\n",
            "65. Mr Gene Evans gene.evans@example.com male\n",
            "66. Mr Coşkun Doğan coskun.dogan@example.com male\n",
            "67. Mr Arquimino Costa arquimino.costa@example.com male\n",
            "68. Mr Max Johnson max.johnson@example.com male\n",
            "69. Monsieur Emil Lacroix emil.lacroix@example.com male\n",
            "70. Mr Elliot Ginnish elliot.ginnish@example.com male\n",
            "71. Mr Martin Larson martin.larson@example.com male\n",
            "72. Mr Florian Leroy florian.leroy@example.com male\n",
            "73. Mr علی رضا مرادی aalyrd.mrdy@example.com male\n",
            "74. Mr Jonas Nielsen jonas.nielsen@example.com male\n",
            "75. Mr Jesse Wallo jesse.wallo@example.com male\n",
            "76. Mr Bogdan Tripković bogdan.tripkovic@example.com male\n",
            "77. Mr Blake Hall blake.hall@example.com male\n",
            "78. Mr Lucas Burton lucas.burton@example.com male\n",
            "79. Mr Kuzma Lastovenko kuzma.lastovenko@example.com male\n",
            "80. Mr Vitomir Kuzmenko vitomir.kuzmenko@example.com male\n",
            "81. Mr Ferdinand Helgheim ferdinand.helgheim@example.com male\n",
            "82. Mr Orest Slobodyan orest.slobodyan@example.com male\n",
            "83. Mr Valentino Guerrero valentino.guerrero@example.com male\n",
            "84. Mr Granislav Tovstolis granislav.tovstolis@example.com male\n",
            "85. Mr Marcel Heien marcel.heien@example.com male\n",
            "86. Mr اميرمحمد احمدی myrmhmd.hmdy@example.com male\n",
            "87. Mr Craig Otoole craig.otoole@example.com male\n",
            "88. Mr Ismael García ismael.garcia@example.com male\n",
            "89. Monsieur Konrad Lemoine konrad.lemoine@example.com male\n",
            "90. Mr Bilomir Simchich bilomir.simchich@example.com male\n",
            "91. Mr Don Hart don.hart@example.com male\n",
            "92. Mr Félix Santiago felix.santiago@example.com male\n",
            "93. Monsieur Loïc Martin loic.martin@example.com male\n",
            "94. Mr Lucas Smith lucas.smith@example.com male\n",
            "95. Mr Sigve Valle sigve.valle@example.com male\n",
            "96. Mr Josep Suarez josep.suarez@example.com male\n",
            "97. Mr Anders Egenes anders.egenes@example.com male\n",
            "98. Mr Anthony Clark anthony.clark@example.com male\n",
            "99. Mr Eeli Kangas eeli.kangas@example.com male\n",
            "100. Mr Jeremy Taylor jeremy.taylor@example.com male\n"
          ]
        }
      ]
    },
    {
      "cell_type": "code",
      "source": [
        "#TASK 3\n",
        "\n",
        "import pandas as pd\n",
        "import numpy as np\n"
      ],
      "metadata": {
        "id": "00dlssGASJJb"
      },
      "execution_count": 3,
      "outputs": []
    },
    {
      "cell_type": "code",
      "source": [
        "#Importing the data\n",
        "data=pd.read_csv(\"/IT Salary Survey EU  2020.csv\", index_col=0)\n",
        "data.head()"
      ],
      "metadata": {
        "colab": {
          "base_uri": "https://localhost:8080/",
          "height": 660
        },
        "id": "U6bbo7_uSRuu",
        "outputId": "21d8dc47-1214-44eb-e8fb-6843b0dae726"
      },
      "execution_count": 4,
      "outputs": [
        {
          "output_type": "execute_result",
          "data": {
            "text/plain": [
              "                      Age Gender    City           Position   \\\n",
              "Timestamp                                                      \n",
              "24/11/2020 11:14:15  26.0   Male  Munich   Software Engineer   \n",
              "24/11/2020 11:14:16  26.0   Male  Berlin   Backend Developer   \n",
              "24/11/2020 11:14:21  29.0   Male  Berlin   Software Engineer   \n",
              "24/11/2020 11:15:24  28.0   Male  Berlin  Frontend Developer   \n",
              "24/11/2020 11:15:46  37.0   Male  Berlin   Backend Developer   \n",
              "\n",
              "                    Total years of experience Years of experience in Germany  \\\n",
              "Timestamp                                                                      \n",
              "24/11/2020 11:14:15                         5                              3   \n",
              "24/11/2020 11:14:16                         7                              4   \n",
              "24/11/2020 11:14:21                        12                              6   \n",
              "24/11/2020 11:15:24                         4                              1   \n",
              "24/11/2020 11:15:46                        17                              6   \n",
              "\n",
              "                    Seniority level  \\\n",
              "Timestamp                             \n",
              "24/11/2020 11:14:15          Senior   \n",
              "24/11/2020 11:14:16          Senior   \n",
              "24/11/2020 11:14:21            Lead   \n",
              "24/11/2020 11:15:24          Junior   \n",
              "24/11/2020 11:15:46          Senior   \n",
              "\n",
              "                    Your main technology / programming language  \\\n",
              "Timestamp                                                         \n",
              "24/11/2020 11:14:15                                  TypeScript   \n",
              "24/11/2020 11:14:16                                        Ruby   \n",
              "24/11/2020 11:14:21                     Javascript / Typescript   \n",
              "24/11/2020 11:15:24                                  Javascript   \n",
              "24/11/2020 11:15:46                                     C# .NET   \n",
              "\n",
              "                    Other technologies/programming languages you use often  \\\n",
              "Timestamp                                                                    \n",
              "24/11/2020 11:14:15                    Kotlin, Javascript / Typescript       \n",
              "24/11/2020 11:14:16                                                NaN       \n",
              "24/11/2020 11:14:21                    Javascript / Typescript, Docker       \n",
              "24/11/2020 11:15:24                                                NaN       \n",
              "24/11/2020 11:15:46                             .NET, SQL, AWS, Docker       \n",
              "\n",
              "                     Yearly brutto salary (without bonus and stocks) in EUR  \\\n",
              "Timestamp                                                                     \n",
              "24/11/2020 11:14:15                                            80000.0        \n",
              "24/11/2020 11:14:16                                            80000.0        \n",
              "24/11/2020 11:14:21                                           120000.0        \n",
              "24/11/2020 11:15:24                                            54000.0        \n",
              "24/11/2020 11:15:46                                            62000.0        \n",
              "\n",
              "                     ...  \\\n",
              "Timestamp            ...   \n",
              "24/11/2020 11:14:15  ...   \n",
              "24/11/2020 11:14:16  ...   \n",
              "24/11/2020 11:14:21  ...   \n",
              "24/11/2020 11:15:24  ...   \n",
              "24/11/2020 11:15:46  ...   \n",
              "\n",
              "                    Annual bonus+stocks one year ago. Only answer if staying in same country  \\\n",
              "Timestamp                                                                                      \n",
              "24/11/2020 11:14:15                                              10000                         \n",
              "24/11/2020 11:14:16                                               5000                         \n",
              "24/11/2020 11:14:21                                             100000                         \n",
              "24/11/2020 11:15:24                                                NaN                         \n",
              "24/11/2020 11:15:46                                                NaN                         \n",
              "\n",
              "                     Number of vacation days           Employment status  \\\n",
              "Timestamp                                                                  \n",
              "24/11/2020 11:14:15                       30          Full-time employee   \n",
              "24/11/2020 11:14:16                       28          Full-time employee   \n",
              "24/11/2020 11:14:21                       30  Self-employed (freelancer)   \n",
              "24/11/2020 11:15:24                       24          Full-time employee   \n",
              "24/11/2020 11:15:46                       29          Full-time employee   \n",
              "\n",
              "                      Сontract duration Main language at work Company size  \\\n",
              "Timestamp                                                                    \n",
              "24/11/2020 11:14:15  Unlimited contract               English       51-100   \n",
              "24/11/2020 11:14:16  Unlimited contract               English     101-1000   \n",
              "24/11/2020 11:14:21  Temporary contract               English     101-1000   \n",
              "24/11/2020 11:15:24  Unlimited contract               English       51-100   \n",
              "24/11/2020 11:15:46  Unlimited contract               English     101-1000   \n",
              "\n",
              "                    Company type  \\\n",
              "Timestamp                          \n",
              "24/11/2020 11:14:15      Product   \n",
              "24/11/2020 11:14:16      Product   \n",
              "24/11/2020 11:14:21      Product   \n",
              "24/11/2020 11:15:24      Startup   \n",
              "24/11/2020 11:15:46      Product   \n",
              "\n",
              "                    Have you lost your job due to the coronavirus outbreak?  \\\n",
              "Timestamp                                                                     \n",
              "24/11/2020 11:14:15                                                 No        \n",
              "24/11/2020 11:14:16                                                 No        \n",
              "24/11/2020 11:14:21                                                Yes        \n",
              "24/11/2020 11:15:24                                                 No        \n",
              "24/11/2020 11:15:46                                                 No        \n",
              "\n",
              "                    Have you been forced to have a shorter working week (Kurzarbeit)? If yes, how many hours per week  \\\n",
              "Timestamp                                                                                                               \n",
              "24/11/2020 11:14:15                                                NaN                                                  \n",
              "24/11/2020 11:14:16                                                NaN                                                  \n",
              "24/11/2020 11:14:21                                                NaN                                                  \n",
              "24/11/2020 11:15:24                                                NaN                                                  \n",
              "24/11/2020 11:15:46                                                NaN                                                  \n",
              "\n",
              "                    Have you received additional monetary support from your employer due to Work From Home? If yes, how much in 2020 in EUR  \n",
              "Timestamp                                                                                                                                    \n",
              "24/11/2020 11:14:15                                                NaN                                                                       \n",
              "24/11/2020 11:14:16                                                NaN                                                                       \n",
              "24/11/2020 11:14:21                                                NaN                                                                       \n",
              "24/11/2020 11:15:24                                                NaN                                                                       \n",
              "24/11/2020 11:15:46                                                NaN                                                                       \n",
              "\n",
              "[5 rows x 22 columns]"
            ],
            "text/html": [
              "\n",
              "  <div id=\"df-411e6780-712c-4ef2-91e2-816eceb49c2a\">\n",
              "    <div class=\"colab-df-container\">\n",
              "      <div>\n",
              "<style scoped>\n",
              "    .dataframe tbody tr th:only-of-type {\n",
              "        vertical-align: middle;\n",
              "    }\n",
              "\n",
              "    .dataframe tbody tr th {\n",
              "        vertical-align: top;\n",
              "    }\n",
              "\n",
              "    .dataframe thead th {\n",
              "        text-align: right;\n",
              "    }\n",
              "</style>\n",
              "<table border=\"1\" class=\"dataframe\">\n",
              "  <thead>\n",
              "    <tr style=\"text-align: right;\">\n",
              "      <th></th>\n",
              "      <th>Age</th>\n",
              "      <th>Gender</th>\n",
              "      <th>City</th>\n",
              "      <th>Position</th>\n",
              "      <th>Total years of experience</th>\n",
              "      <th>Years of experience in Germany</th>\n",
              "      <th>Seniority level</th>\n",
              "      <th>Your main technology / programming language</th>\n",
              "      <th>Other technologies/programming languages you use often</th>\n",
              "      <th>Yearly brutto salary (without bonus and stocks) in EUR</th>\n",
              "      <th>...</th>\n",
              "      <th>Annual bonus+stocks one year ago. Only answer if staying in same country</th>\n",
              "      <th>Number of vacation days</th>\n",
              "      <th>Employment status</th>\n",
              "      <th>Сontract duration</th>\n",
              "      <th>Main language at work</th>\n",
              "      <th>Company size</th>\n",
              "      <th>Company type</th>\n",
              "      <th>Have you lost your job due to the coronavirus outbreak?</th>\n",
              "      <th>Have you been forced to have a shorter working week (Kurzarbeit)? If yes, how many hours per week</th>\n",
              "      <th>Have you received additional monetary support from your employer due to Work From Home? If yes, how much in 2020 in EUR</th>\n",
              "    </tr>\n",
              "    <tr>\n",
              "      <th>Timestamp</th>\n",
              "      <th></th>\n",
              "      <th></th>\n",
              "      <th></th>\n",
              "      <th></th>\n",
              "      <th></th>\n",
              "      <th></th>\n",
              "      <th></th>\n",
              "      <th></th>\n",
              "      <th></th>\n",
              "      <th></th>\n",
              "      <th></th>\n",
              "      <th></th>\n",
              "      <th></th>\n",
              "      <th></th>\n",
              "      <th></th>\n",
              "      <th></th>\n",
              "      <th></th>\n",
              "      <th></th>\n",
              "      <th></th>\n",
              "      <th></th>\n",
              "      <th></th>\n",
              "    </tr>\n",
              "  </thead>\n",
              "  <tbody>\n",
              "    <tr>\n",
              "      <th>24/11/2020 11:14:15</th>\n",
              "      <td>26.0</td>\n",
              "      <td>Male</td>\n",
              "      <td>Munich</td>\n",
              "      <td>Software Engineer</td>\n",
              "      <td>5</td>\n",
              "      <td>3</td>\n",
              "      <td>Senior</td>\n",
              "      <td>TypeScript</td>\n",
              "      <td>Kotlin, Javascript / Typescript</td>\n",
              "      <td>80000.0</td>\n",
              "      <td>...</td>\n",
              "      <td>10000</td>\n",
              "      <td>30</td>\n",
              "      <td>Full-time employee</td>\n",
              "      <td>Unlimited contract</td>\n",
              "      <td>English</td>\n",
              "      <td>51-100</td>\n",
              "      <td>Product</td>\n",
              "      <td>No</td>\n",
              "      <td>NaN</td>\n",
              "      <td>NaN</td>\n",
              "    </tr>\n",
              "    <tr>\n",
              "      <th>24/11/2020 11:14:16</th>\n",
              "      <td>26.0</td>\n",
              "      <td>Male</td>\n",
              "      <td>Berlin</td>\n",
              "      <td>Backend Developer</td>\n",
              "      <td>7</td>\n",
              "      <td>4</td>\n",
              "      <td>Senior</td>\n",
              "      <td>Ruby</td>\n",
              "      <td>NaN</td>\n",
              "      <td>80000.0</td>\n",
              "      <td>...</td>\n",
              "      <td>5000</td>\n",
              "      <td>28</td>\n",
              "      <td>Full-time employee</td>\n",
              "      <td>Unlimited contract</td>\n",
              "      <td>English</td>\n",
              "      <td>101-1000</td>\n",
              "      <td>Product</td>\n",
              "      <td>No</td>\n",
              "      <td>NaN</td>\n",
              "      <td>NaN</td>\n",
              "    </tr>\n",
              "    <tr>\n",
              "      <th>24/11/2020 11:14:21</th>\n",
              "      <td>29.0</td>\n",
              "      <td>Male</td>\n",
              "      <td>Berlin</td>\n",
              "      <td>Software Engineer</td>\n",
              "      <td>12</td>\n",
              "      <td>6</td>\n",
              "      <td>Lead</td>\n",
              "      <td>Javascript / Typescript</td>\n",
              "      <td>Javascript / Typescript, Docker</td>\n",
              "      <td>120000.0</td>\n",
              "      <td>...</td>\n",
              "      <td>100000</td>\n",
              "      <td>30</td>\n",
              "      <td>Self-employed (freelancer)</td>\n",
              "      <td>Temporary contract</td>\n",
              "      <td>English</td>\n",
              "      <td>101-1000</td>\n",
              "      <td>Product</td>\n",
              "      <td>Yes</td>\n",
              "      <td>NaN</td>\n",
              "      <td>NaN</td>\n",
              "    </tr>\n",
              "    <tr>\n",
              "      <th>24/11/2020 11:15:24</th>\n",
              "      <td>28.0</td>\n",
              "      <td>Male</td>\n",
              "      <td>Berlin</td>\n",
              "      <td>Frontend Developer</td>\n",
              "      <td>4</td>\n",
              "      <td>1</td>\n",
              "      <td>Junior</td>\n",
              "      <td>Javascript</td>\n",
              "      <td>NaN</td>\n",
              "      <td>54000.0</td>\n",
              "      <td>...</td>\n",
              "      <td>NaN</td>\n",
              "      <td>24</td>\n",
              "      <td>Full-time employee</td>\n",
              "      <td>Unlimited contract</td>\n",
              "      <td>English</td>\n",
              "      <td>51-100</td>\n",
              "      <td>Startup</td>\n",
              "      <td>No</td>\n",
              "      <td>NaN</td>\n",
              "      <td>NaN</td>\n",
              "    </tr>\n",
              "    <tr>\n",
              "      <th>24/11/2020 11:15:46</th>\n",
              "      <td>37.0</td>\n",
              "      <td>Male</td>\n",
              "      <td>Berlin</td>\n",
              "      <td>Backend Developer</td>\n",
              "      <td>17</td>\n",
              "      <td>6</td>\n",
              "      <td>Senior</td>\n",
              "      <td>C# .NET</td>\n",
              "      <td>.NET, SQL, AWS, Docker</td>\n",
              "      <td>62000.0</td>\n",
              "      <td>...</td>\n",
              "      <td>NaN</td>\n",
              "      <td>29</td>\n",
              "      <td>Full-time employee</td>\n",
              "      <td>Unlimited contract</td>\n",
              "      <td>English</td>\n",
              "      <td>101-1000</td>\n",
              "      <td>Product</td>\n",
              "      <td>No</td>\n",
              "      <td>NaN</td>\n",
              "      <td>NaN</td>\n",
              "    </tr>\n",
              "  </tbody>\n",
              "</table>\n",
              "<p>5 rows × 22 columns</p>\n",
              "</div>\n",
              "      <button class=\"colab-df-convert\" onclick=\"convertToInteractive('df-411e6780-712c-4ef2-91e2-816eceb49c2a')\"\n",
              "              title=\"Convert this dataframe to an interactive table.\"\n",
              "              style=\"display:none;\">\n",
              "        \n",
              "  <svg xmlns=\"http://www.w3.org/2000/svg\" height=\"24px\"viewBox=\"0 0 24 24\"\n",
              "       width=\"24px\">\n",
              "    <path d=\"M0 0h24v24H0V0z\" fill=\"none\"/>\n",
              "    <path d=\"M18.56 5.44l.94 2.06.94-2.06 2.06-.94-2.06-.94-.94-2.06-.94 2.06-2.06.94zm-11 1L8.5 8.5l.94-2.06 2.06-.94-2.06-.94L8.5 2.5l-.94 2.06-2.06.94zm10 10l.94 2.06.94-2.06 2.06-.94-2.06-.94-.94-2.06-.94 2.06-2.06.94z\"/><path d=\"M17.41 7.96l-1.37-1.37c-.4-.4-.92-.59-1.43-.59-.52 0-1.04.2-1.43.59L10.3 9.45l-7.72 7.72c-.78.78-.78 2.05 0 2.83L4 21.41c.39.39.9.59 1.41.59.51 0 1.02-.2 1.41-.59l7.78-7.78 2.81-2.81c.8-.78.8-2.07 0-2.86zM5.41 20L4 18.59l7.72-7.72 1.47 1.35L5.41 20z\"/>\n",
              "  </svg>\n",
              "      </button>\n",
              "      \n",
              "  <style>\n",
              "    .colab-df-container {\n",
              "      display:flex;\n",
              "      flex-wrap:wrap;\n",
              "      gap: 12px;\n",
              "    }\n",
              "\n",
              "    .colab-df-convert {\n",
              "      background-color: #E8F0FE;\n",
              "      border: none;\n",
              "      border-radius: 50%;\n",
              "      cursor: pointer;\n",
              "      display: none;\n",
              "      fill: #1967D2;\n",
              "      height: 32px;\n",
              "      padding: 0 0 0 0;\n",
              "      width: 32px;\n",
              "    }\n",
              "\n",
              "    .colab-df-convert:hover {\n",
              "      background-color: #E2EBFA;\n",
              "      box-shadow: 0px 1px 2px rgba(60, 64, 67, 0.3), 0px 1px 3px 1px rgba(60, 64, 67, 0.15);\n",
              "      fill: #174EA6;\n",
              "    }\n",
              "\n",
              "    [theme=dark] .colab-df-convert {\n",
              "      background-color: #3B4455;\n",
              "      fill: #D2E3FC;\n",
              "    }\n",
              "\n",
              "    [theme=dark] .colab-df-convert:hover {\n",
              "      background-color: #434B5C;\n",
              "      box-shadow: 0px 1px 3px 1px rgba(0, 0, 0, 0.15);\n",
              "      filter: drop-shadow(0px 1px 2px rgba(0, 0, 0, 0.3));\n",
              "      fill: #FFFFFF;\n",
              "    }\n",
              "  </style>\n",
              "\n",
              "      <script>\n",
              "        const buttonEl =\n",
              "          document.querySelector('#df-411e6780-712c-4ef2-91e2-816eceb49c2a button.colab-df-convert');\n",
              "        buttonEl.style.display =\n",
              "          google.colab.kernel.accessAllowed ? 'block' : 'none';\n",
              "\n",
              "        async function convertToInteractive(key) {\n",
              "          const element = document.querySelector('#df-411e6780-712c-4ef2-91e2-816eceb49c2a');\n",
              "          const dataTable =\n",
              "            await google.colab.kernel.invokeFunction('convertToInteractive',\n",
              "                                                     [key], {});\n",
              "          if (!dataTable) return;\n",
              "\n",
              "          const docLinkHtml = 'Like what you see? Visit the ' +\n",
              "            '<a target=\"_blank\" href=https://colab.research.google.com/notebooks/data_table.ipynb>data table notebook</a>'\n",
              "            + ' to learn more about interactive tables.';\n",
              "          element.innerHTML = '';\n",
              "          dataTable['output_type'] = 'display_data';\n",
              "          await google.colab.output.renderOutput(dataTable, element);\n",
              "          const docLink = document.createElement('div');\n",
              "          docLink.innerHTML = docLinkHtml;\n",
              "          element.appendChild(docLink);\n",
              "        }\n",
              "      </script>\n",
              "    </div>\n",
              "  </div>\n",
              "  "
            ]
          },
          "metadata": {},
          "execution_count": 4
        }
      ]
    },
    {
      "cell_type": "code",
      "source": [
        "data.info()"
      ],
      "metadata": {
        "colab": {
          "base_uri": "https://localhost:8080/"
        },
        "id": "A6slPAmsURuo",
        "outputId": "c0587601-b6f7-4c25-cc9a-155f5527a93b"
      },
      "execution_count": 5,
      "outputs": [
        {
          "output_type": "stream",
          "name": "stdout",
          "text": [
            "<class 'pandas.core.frame.DataFrame'>\n",
            "Index: 1253 entries, 24/11/2020 11:14:15 to 19/01/2021 12:01:11\n",
            "Data columns (total 22 columns):\n",
            " #   Column                                                                                                                   Non-Null Count  Dtype  \n",
            "---  ------                                                                                                                   --------------  -----  \n",
            " 0   Age                                                                                                                      1226 non-null   float64\n",
            " 1   Gender                                                                                                                   1243 non-null   object \n",
            " 2   City                                                                                                                     1253 non-null   object \n",
            " 3   Position                                                                                                                 1247 non-null   object \n",
            " 4   Total years of experience                                                                                                1237 non-null   object \n",
            " 5   Years of experience in Germany                                                                                           1221 non-null   object \n",
            " 6   Seniority level                                                                                                          1241 non-null   object \n",
            " 7   Your main technology / programming language                                                                              1126 non-null   object \n",
            " 8   Other technologies/programming languages you use often                                                                   1096 non-null   object \n",
            " 9   Yearly brutto salary (without bonus and stocks) in EUR                                                                   1253 non-null   float64\n",
            " 10  Yearly bonus + stocks in EUR                                                                                             829 non-null    object \n",
            " 11  Annual brutto salary (without bonus and stocks) one year ago. Only answer if staying in the same country                 885 non-null    float64\n",
            " 12  Annual bonus+stocks one year ago. Only answer if staying in same country                                                 614 non-null    object \n",
            " 13  Number of vacation days                                                                                                  1185 non-null   object \n",
            " 14  Employment status                                                                                                        1236 non-null   object \n",
            " 15  Сontract duration                                                                                                        1224 non-null   object \n",
            " 16  Main language at work                                                                                                    1237 non-null   object \n",
            " 17  Company size                                                                                                             1235 non-null   object \n",
            " 18  Company type                                                                                                             1228 non-null   object \n",
            " 19  Have you lost your job due to the coronavirus outbreak?                                                                  1233 non-null   object \n",
            " 20  Have you been forced to have a shorter working week (Kurzarbeit)? If yes, how many hours per week                        373 non-null    float64\n",
            " 21  Have you received additional monetary support from your employer due to Work From Home? If yes, how much in 2020 in EUR  462 non-null    object \n",
            "dtypes: float64(4), object(18)\n",
            "memory usage: 257.4+ KB\n"
          ]
        }
      ]
    },
    {
      "cell_type": "code",
      "source": [
        "#DATA PREPARATION\n"
      ],
      "metadata": {
        "id": "e1O9eGQOUgkl"
      },
      "execution_count": 7,
      "outputs": []
    },
    {
      "cell_type": "code",
      "source": [
        "#HANDLE MISSING VALUES\n",
        "data.isna().sum()"
      ],
      "metadata": {
        "colab": {
          "base_uri": "https://localhost:8080/"
        },
        "id": "c_hZEhlOWKiD",
        "outputId": "cd7dcafe-25c1-4e5d-8cff-92ec3858f768"
      },
      "execution_count": 8,
      "outputs": [
        {
          "output_type": "execute_result",
          "data": {
            "text/plain": [
              "Age                                                                                                                         27\n",
              "Gender                                                                                                                      10\n",
              "City                                                                                                                         0\n",
              "Position                                                                                                                     6\n",
              "Total years of experience                                                                                                   16\n",
              "Years of experience in Germany                                                                                              32\n",
              "Seniority level                                                                                                             12\n",
              "Your main technology / programming language                                                                                127\n",
              "Other technologies/programming languages you use often                                                                     157\n",
              "Yearly brutto salary (without bonus and stocks) in EUR                                                                       0\n",
              "Yearly bonus + stocks in EUR                                                                                               424\n",
              "Annual brutto salary (without bonus and stocks) one year ago. Only answer if staying in the same country                   368\n",
              "Annual bonus+stocks one year ago. Only answer if staying in same country                                                   639\n",
              "Number of vacation days                                                                                                     68\n",
              "Employment status                                                                                                           17\n",
              "Сontract duration                                                                                                           29\n",
              "Main language at work                                                                                                       16\n",
              "Company size                                                                                                                18\n",
              "Company type                                                                                                                25\n",
              "Have you lost your job due to the coronavirus outbreak?                                                                     20\n",
              "Have you been forced to have a shorter working week (Kurzarbeit)? If yes, how many hours per week                          880\n",
              "Have you received additional monetary support from your employer due to Work From Home? If yes, how much in 2020 in EUR    791\n",
              "dtype: int64"
            ]
          },
          "metadata": {},
          "execution_count": 8
        }
      ]
    },
    {
      "cell_type": "code",
      "source": [
        "def drop_rows(column, df):\n",
        "  return df.dropna(subset = [column], inplace=True)"
      ],
      "metadata": {
        "id": "wQTDb9RPeCNQ"
      },
      "execution_count": 29,
      "outputs": []
    },
    {
      "cell_type": "code",
      "source": [
        "drop_rows(\"Gender\", data)\n",
        "drop_rows(\"Position \", data)\n",
        "drop_rows(\"Years of experience in Germany\", data)\n",
        "drop_rows(\"Employment status\", data)\n",
        "drop_rows(\"Company type\", data)\n",
        "drop_rows(\"Company size\", data)"
      ],
      "metadata": {
        "id": "35KbOyZGirWe"
      },
      "execution_count": 42,
      "outputs": []
    },
    {
      "cell_type": "code",
      "source": [
        "data.isna().sum()"
      ],
      "metadata": {
        "colab": {
          "base_uri": "https://localhost:8080/"
        },
        "id": "gZe26Fbflh0w",
        "outputId": "670cca84-1c77-4fe3-fb24-575a4960dda0"
      },
      "execution_count": 43,
      "outputs": [
        {
          "output_type": "execute_result",
          "data": {
            "text/plain": [
              "Age                                                                                                                         15\n",
              "Gender                                                                                                                       0\n",
              "City                                                                                                                         0\n",
              "Position                                                                                                                     0\n",
              "Total years of experience                                                                                                    8\n",
              "Years of experience in Germany                                                                                               0\n",
              "Seniority level                                                                                                              7\n",
              "Your main technology / programming language                                                                                112\n",
              "Other technologies/programming languages you use often                                                                     140\n",
              "Yearly brutto salary (without bonus and stocks) in EUR                                                                       0\n",
              "Yearly bonus + stocks in EUR                                                                                               391\n",
              "Annual brutto salary (without bonus and stocks) one year ago. Only answer if staying in the same country                   331\n",
              "Annual bonus+stocks one year ago. Only answer if staying in same country                                                   593\n",
              "Number of vacation days                                                                                                     47\n",
              "Employment status                                                                                                            0\n",
              "Сontract duration                                                                                                           10\n",
              "Main language at work                                                                                                        3\n",
              "Company size                                                                                                                 0\n",
              "Company type                                                                                                                 0\n",
              "Have you lost your job due to the coronavirus outbreak?                                                                      7\n",
              "Have you been forced to have a shorter working week (Kurzarbeit)? If yes, how many hours per week                          824\n",
              "Have you received additional monetary support from your employer due to Work From Home? If yes, how much in 2020 in EUR    743\n",
              "dtype: int64"
            ]
          },
          "metadata": {},
          "execution_count": 43
        }
      ]
    },
    {
      "cell_type": "code",
      "source": [
        "data[\"Main language at work\"].value_counts()"
      ],
      "metadata": {
        "colab": {
          "base_uri": "https://localhost:8080/"
        },
        "id": "yn0sCC81lZqY",
        "outputId": "00c49294-f9e8-432a-8683-e2634862e81d"
      },
      "execution_count": 47,
      "outputs": [
        {
          "output_type": "execute_result",
          "data": {
            "text/plain": [
              "English               982\n",
              "German                177\n",
              "Russian                 9\n",
              "Italian                 3\n",
              "Spanish                 3\n",
              "English and German      2\n",
              "Русский                 2\n",
              "Polish                  1\n",
              "50/50                   1\n",
              "Czech                   1\n",
              "Deuglisch               1\n",
              "French                  1\n",
              "both                    1\n",
              "Russian, English        1\n",
              "Name: Main language at work, dtype: int64"
            ]
          },
          "metadata": {},
          "execution_count": 47
        }
      ]
    },
    {
      "cell_type": "code",
      "source": [
        "#Most common language is English\n",
        "#Replace missing values with mode.\n",
        "data[\"Main language at work\"].fillna(\"English\", inplace=True)"
      ],
      "metadata": {
        "id": "_Cg_dAT1jEg5"
      },
      "execution_count": 49,
      "outputs": []
    },
    {
      "cell_type": "code",
      "source": [
        "#Replace missing values for columns with mean\n",
        "def fill_mean(column, data):\n",
        "  mean = data[column].mean()\n",
        "  return data[column].fillna(mean, inplace=True)\n"
      ],
      "metadata": {
        "id": "Scqc3B-non8H"
      },
      "execution_count": 52,
      "outputs": []
    },
    {
      "cell_type": "code",
      "source": [],
      "metadata": {
        "id": "SkMdugKExbiW"
      },
      "execution_count": null,
      "outputs": []
    },
    {
      "cell_type": "code",
      "source": [],
      "metadata": {
        "id": "4ryQGA-KxbdR"
      },
      "execution_count": null,
      "outputs": []
    },
    {
      "cell_type": "code",
      "source": [
        "data[\"Total years of experience\"].unique()"
      ],
      "metadata": {
        "colab": {
          "base_uri": "https://localhost:8080/"
        },
        "id": "ZjwQRfB5xaxp",
        "outputId": "069c2f6f-9da0-454a-c470-6fdfd4d562ba"
      },
      "execution_count": 61,
      "outputs": [
        {
          "output_type": "execute_result",
          "data": {
            "text/plain": [
              "array(['5', '7', '12', '4', '17', '6', '8', '15', '2', '25', '14', '11',\n",
              "       '18', '13', '30', '10', '3', '40', '26', '23', '9', '19', '20',\n",
              "       '55', '22', '16', '08', '1', nan, '65', '21', '75', '28', '29',\n",
              "       '1,5', '24', '0', '45', '27', '1 as QA Engineer  11 in total',\n",
              "       '2,5', '15, thereof 8 as CTO', '31',\n",
              "       '6 not as a data scientist, but as a lab scientist', '35',\n",
              "       'less than year'], dtype=object)"
            ]
          },
          "metadata": {},
          "execution_count": 61
        }
      ]
    },
    {
      "cell_type": "code",
      "source": [
        "#remove  the special characters\n",
        "data['Total years of experience'] = data['Total years of experience'].str.replace(r'[^\\w\\s\\,]+', '')"
      ],
      "metadata": {
        "colab": {
          "base_uri": "https://localhost:8080/"
        },
        "id": "WkSXJouOtac9",
        "outputId": "d5a738c6-3f1f-4b9d-9835-fa6fe154a4b2"
      },
      "execution_count": 59,
      "outputs": [
        {
          "output_type": "stream",
          "name": "stderr",
          "text": [
            "<ipython-input-59-4ea4c865ac11>:2: FutureWarning: The default value of regex will change from True to False in a future version.\n",
            "  data['Total years of experience'] = data['Total years of experience'].str.replace(r'[^\\w\\s\\,]+', '')\n"
          ]
        }
      ]
    },
    {
      "cell_type": "code",
      "source": [
        "#data type conversion\n",
        "data[\"Total years of experience\"] = data[\"Total years of experience\"].astype(\"float64\")"
      ],
      "metadata": {
        "colab": {
          "base_uri": "https://localhost:8080/",
          "height": 329
        },
        "id": "bS9TPj3tsKC-",
        "outputId": "1d9ae225-97a8-4bf8-dc15-133ff849b756"
      },
      "execution_count": 60,
      "outputs": [
        {
          "output_type": "error",
          "ename": "ValueError",
          "evalue": "ignored",
          "traceback": [
            "\u001b[0;31m---------------------------------------------------------------------------\u001b[0m",
            "\u001b[0;31mValueError\u001b[0m                                Traceback (most recent call last)",
            "\u001b[0;32m<ipython-input-60-a7dce9531745>\u001b[0m in \u001b[0;36m<cell line: 2>\u001b[0;34m()\u001b[0m\n\u001b[1;32m      1\u001b[0m \u001b[0;31m#data type conversion\u001b[0m\u001b[0;34m\u001b[0m\u001b[0;34m\u001b[0m\u001b[0m\n\u001b[0;32m----> 2\u001b[0;31m \u001b[0mdata\u001b[0m\u001b[0;34m[\u001b[0m\u001b[0;34m\"Total years of experience\"\u001b[0m\u001b[0;34m]\u001b[0m \u001b[0;34m=\u001b[0m \u001b[0mdata\u001b[0m\u001b[0;34m[\u001b[0m\u001b[0;34m\"Total years of experience\"\u001b[0m\u001b[0;34m]\u001b[0m\u001b[0;34m.\u001b[0m\u001b[0mastype\u001b[0m\u001b[0;34m(\u001b[0m\u001b[0;34m\"float64\"\u001b[0m\u001b[0;34m)\u001b[0m\u001b[0;34m\u001b[0m\u001b[0;34m\u001b[0m\u001b[0m\n\u001b[0m",
            "\u001b[0;32m/usr/local/lib/python3.9/dist-packages/pandas/core/generic.py\u001b[0m in \u001b[0;36mastype\u001b[0;34m(self, dtype, copy, errors)\u001b[0m\n\u001b[1;32m   5910\u001b[0m         \u001b[0;32melse\u001b[0m\u001b[0;34m:\u001b[0m\u001b[0;34m\u001b[0m\u001b[0;34m\u001b[0m\u001b[0m\n\u001b[1;32m   5911\u001b[0m             \u001b[0;31m# else, only a single dtype is given\u001b[0m\u001b[0;34m\u001b[0m\u001b[0;34m\u001b[0m\u001b[0m\n\u001b[0;32m-> 5912\u001b[0;31m             \u001b[0mnew_data\u001b[0m \u001b[0;34m=\u001b[0m \u001b[0mself\u001b[0m\u001b[0;34m.\u001b[0m\u001b[0m_mgr\u001b[0m\u001b[0;34m.\u001b[0m\u001b[0mastype\u001b[0m\u001b[0;34m(\u001b[0m\u001b[0mdtype\u001b[0m\u001b[0;34m=\u001b[0m\u001b[0mdtype\u001b[0m\u001b[0;34m,\u001b[0m \u001b[0mcopy\u001b[0m\u001b[0;34m=\u001b[0m\u001b[0mcopy\u001b[0m\u001b[0;34m,\u001b[0m \u001b[0merrors\u001b[0m\u001b[0;34m=\u001b[0m\u001b[0merrors\u001b[0m\u001b[0;34m)\u001b[0m\u001b[0;34m\u001b[0m\u001b[0;34m\u001b[0m\u001b[0m\n\u001b[0m\u001b[1;32m   5913\u001b[0m             \u001b[0;32mreturn\u001b[0m \u001b[0mself\u001b[0m\u001b[0;34m.\u001b[0m\u001b[0m_constructor\u001b[0m\u001b[0;34m(\u001b[0m\u001b[0mnew_data\u001b[0m\u001b[0;34m)\u001b[0m\u001b[0;34m.\u001b[0m\u001b[0m__finalize__\u001b[0m\u001b[0;34m(\u001b[0m\u001b[0mself\u001b[0m\u001b[0;34m,\u001b[0m \u001b[0mmethod\u001b[0m\u001b[0;34m=\u001b[0m\u001b[0;34m\"astype\"\u001b[0m\u001b[0;34m)\u001b[0m\u001b[0;34m\u001b[0m\u001b[0;34m\u001b[0m\u001b[0m\n\u001b[1;32m   5914\u001b[0m \u001b[0;34m\u001b[0m\u001b[0m\n",
            "\u001b[0;32m/usr/local/lib/python3.9/dist-packages/pandas/core/internals/managers.py\u001b[0m in \u001b[0;36mastype\u001b[0;34m(self, dtype, copy, errors)\u001b[0m\n\u001b[1;32m    417\u001b[0m \u001b[0;34m\u001b[0m\u001b[0m\n\u001b[1;32m    418\u001b[0m     \u001b[0;32mdef\u001b[0m \u001b[0mastype\u001b[0m\u001b[0;34m(\u001b[0m\u001b[0mself\u001b[0m\u001b[0;34m:\u001b[0m \u001b[0mT\u001b[0m\u001b[0;34m,\u001b[0m \u001b[0mdtype\u001b[0m\u001b[0;34m,\u001b[0m \u001b[0mcopy\u001b[0m\u001b[0;34m:\u001b[0m \u001b[0mbool\u001b[0m \u001b[0;34m=\u001b[0m \u001b[0;32mFalse\u001b[0m\u001b[0;34m,\u001b[0m \u001b[0merrors\u001b[0m\u001b[0;34m:\u001b[0m \u001b[0mstr\u001b[0m \u001b[0;34m=\u001b[0m \u001b[0;34m\"raise\"\u001b[0m\u001b[0;34m)\u001b[0m \u001b[0;34m->\u001b[0m \u001b[0mT\u001b[0m\u001b[0;34m:\u001b[0m\u001b[0;34m\u001b[0m\u001b[0;34m\u001b[0m\u001b[0m\n\u001b[0;32m--> 419\u001b[0;31m         \u001b[0;32mreturn\u001b[0m \u001b[0mself\u001b[0m\u001b[0;34m.\u001b[0m\u001b[0mapply\u001b[0m\u001b[0;34m(\u001b[0m\u001b[0;34m\"astype\"\u001b[0m\u001b[0;34m,\u001b[0m \u001b[0mdtype\u001b[0m\u001b[0;34m=\u001b[0m\u001b[0mdtype\u001b[0m\u001b[0;34m,\u001b[0m \u001b[0mcopy\u001b[0m\u001b[0;34m=\u001b[0m\u001b[0mcopy\u001b[0m\u001b[0;34m,\u001b[0m \u001b[0merrors\u001b[0m\u001b[0;34m=\u001b[0m\u001b[0merrors\u001b[0m\u001b[0;34m)\u001b[0m\u001b[0;34m\u001b[0m\u001b[0;34m\u001b[0m\u001b[0m\n\u001b[0m\u001b[1;32m    420\u001b[0m \u001b[0;34m\u001b[0m\u001b[0m\n\u001b[1;32m    421\u001b[0m     def convert(\n",
            "\u001b[0;32m/usr/local/lib/python3.9/dist-packages/pandas/core/internals/managers.py\u001b[0m in \u001b[0;36mapply\u001b[0;34m(self, f, align_keys, ignore_failures, **kwargs)\u001b[0m\n\u001b[1;32m    302\u001b[0m                     \u001b[0mapplied\u001b[0m \u001b[0;34m=\u001b[0m \u001b[0mb\u001b[0m\u001b[0;34m.\u001b[0m\u001b[0mapply\u001b[0m\u001b[0;34m(\u001b[0m\u001b[0mf\u001b[0m\u001b[0;34m,\u001b[0m \u001b[0;34m**\u001b[0m\u001b[0mkwargs\u001b[0m\u001b[0;34m)\u001b[0m\u001b[0;34m\u001b[0m\u001b[0;34m\u001b[0m\u001b[0m\n\u001b[1;32m    303\u001b[0m                 \u001b[0;32melse\u001b[0m\u001b[0;34m:\u001b[0m\u001b[0;34m\u001b[0m\u001b[0;34m\u001b[0m\u001b[0m\n\u001b[0;32m--> 304\u001b[0;31m                     \u001b[0mapplied\u001b[0m \u001b[0;34m=\u001b[0m \u001b[0mgetattr\u001b[0m\u001b[0;34m(\u001b[0m\u001b[0mb\u001b[0m\u001b[0;34m,\u001b[0m \u001b[0mf\u001b[0m\u001b[0;34m)\u001b[0m\u001b[0;34m(\u001b[0m\u001b[0;34m**\u001b[0m\u001b[0mkwargs\u001b[0m\u001b[0;34m)\u001b[0m\u001b[0;34m\u001b[0m\u001b[0;34m\u001b[0m\u001b[0m\n\u001b[0m\u001b[1;32m    305\u001b[0m             \u001b[0;32mexcept\u001b[0m \u001b[0;34m(\u001b[0m\u001b[0mTypeError\u001b[0m\u001b[0;34m,\u001b[0m \u001b[0mNotImplementedError\u001b[0m\u001b[0;34m)\u001b[0m\u001b[0;34m:\u001b[0m\u001b[0;34m\u001b[0m\u001b[0;34m\u001b[0m\u001b[0m\n\u001b[1;32m    306\u001b[0m                 \u001b[0;32mif\u001b[0m \u001b[0;32mnot\u001b[0m \u001b[0mignore_failures\u001b[0m\u001b[0;34m:\u001b[0m\u001b[0;34m\u001b[0m\u001b[0;34m\u001b[0m\u001b[0m\n",
            "\u001b[0;32m/usr/local/lib/python3.9/dist-packages/pandas/core/internals/blocks.py\u001b[0m in \u001b[0;36mastype\u001b[0;34m(self, dtype, copy, errors)\u001b[0m\n\u001b[1;32m    578\u001b[0m         \u001b[0mvalues\u001b[0m \u001b[0;34m=\u001b[0m \u001b[0mself\u001b[0m\u001b[0;34m.\u001b[0m\u001b[0mvalues\u001b[0m\u001b[0;34m\u001b[0m\u001b[0;34m\u001b[0m\u001b[0m\n\u001b[1;32m    579\u001b[0m \u001b[0;34m\u001b[0m\u001b[0m\n\u001b[0;32m--> 580\u001b[0;31m         \u001b[0mnew_values\u001b[0m \u001b[0;34m=\u001b[0m \u001b[0mastype_array_safe\u001b[0m\u001b[0;34m(\u001b[0m\u001b[0mvalues\u001b[0m\u001b[0;34m,\u001b[0m \u001b[0mdtype\u001b[0m\u001b[0;34m,\u001b[0m \u001b[0mcopy\u001b[0m\u001b[0;34m=\u001b[0m\u001b[0mcopy\u001b[0m\u001b[0;34m,\u001b[0m \u001b[0merrors\u001b[0m\u001b[0;34m=\u001b[0m\u001b[0merrors\u001b[0m\u001b[0;34m)\u001b[0m\u001b[0;34m\u001b[0m\u001b[0;34m\u001b[0m\u001b[0m\n\u001b[0m\u001b[1;32m    581\u001b[0m \u001b[0;34m\u001b[0m\u001b[0m\n\u001b[1;32m    582\u001b[0m         \u001b[0mnew_values\u001b[0m \u001b[0;34m=\u001b[0m \u001b[0mmaybe_coerce_values\u001b[0m\u001b[0;34m(\u001b[0m\u001b[0mnew_values\u001b[0m\u001b[0;34m)\u001b[0m\u001b[0;34m\u001b[0m\u001b[0;34m\u001b[0m\u001b[0m\n",
            "\u001b[0;32m/usr/local/lib/python3.9/dist-packages/pandas/core/dtypes/cast.py\u001b[0m in \u001b[0;36mastype_array_safe\u001b[0;34m(values, dtype, copy, errors)\u001b[0m\n\u001b[1;32m   1290\u001b[0m \u001b[0;34m\u001b[0m\u001b[0m\n\u001b[1;32m   1291\u001b[0m     \u001b[0;32mtry\u001b[0m\u001b[0;34m:\u001b[0m\u001b[0;34m\u001b[0m\u001b[0;34m\u001b[0m\u001b[0m\n\u001b[0;32m-> 1292\u001b[0;31m         \u001b[0mnew_values\u001b[0m \u001b[0;34m=\u001b[0m \u001b[0mastype_array\u001b[0m\u001b[0;34m(\u001b[0m\u001b[0mvalues\u001b[0m\u001b[0;34m,\u001b[0m \u001b[0mdtype\u001b[0m\u001b[0;34m,\u001b[0m \u001b[0mcopy\u001b[0m\u001b[0;34m=\u001b[0m\u001b[0mcopy\u001b[0m\u001b[0;34m)\u001b[0m\u001b[0;34m\u001b[0m\u001b[0;34m\u001b[0m\u001b[0m\n\u001b[0m\u001b[1;32m   1293\u001b[0m     \u001b[0;32mexcept\u001b[0m \u001b[0;34m(\u001b[0m\u001b[0mValueError\u001b[0m\u001b[0;34m,\u001b[0m \u001b[0mTypeError\u001b[0m\u001b[0;34m)\u001b[0m\u001b[0;34m:\u001b[0m\u001b[0;34m\u001b[0m\u001b[0;34m\u001b[0m\u001b[0m\n\u001b[1;32m   1294\u001b[0m         \u001b[0;31m# e.g. astype_nansafe can fail on object-dtype of strings\u001b[0m\u001b[0;34m\u001b[0m\u001b[0;34m\u001b[0m\u001b[0m\n",
            "\u001b[0;32m/usr/local/lib/python3.9/dist-packages/pandas/core/dtypes/cast.py\u001b[0m in \u001b[0;36mastype_array\u001b[0;34m(values, dtype, copy)\u001b[0m\n\u001b[1;32m   1235\u001b[0m \u001b[0;34m\u001b[0m\u001b[0m\n\u001b[1;32m   1236\u001b[0m     \u001b[0;32melse\u001b[0m\u001b[0;34m:\u001b[0m\u001b[0;34m\u001b[0m\u001b[0;34m\u001b[0m\u001b[0m\n\u001b[0;32m-> 1237\u001b[0;31m         \u001b[0mvalues\u001b[0m \u001b[0;34m=\u001b[0m \u001b[0mastype_nansafe\u001b[0m\u001b[0;34m(\u001b[0m\u001b[0mvalues\u001b[0m\u001b[0;34m,\u001b[0m \u001b[0mdtype\u001b[0m\u001b[0;34m,\u001b[0m \u001b[0mcopy\u001b[0m\u001b[0;34m=\u001b[0m\u001b[0mcopy\u001b[0m\u001b[0;34m)\u001b[0m\u001b[0;34m\u001b[0m\u001b[0;34m\u001b[0m\u001b[0m\n\u001b[0m\u001b[1;32m   1238\u001b[0m \u001b[0;34m\u001b[0m\u001b[0m\n\u001b[1;32m   1239\u001b[0m     \u001b[0;31m# in pandas we don't store numpy str dtypes, so convert to object\u001b[0m\u001b[0;34m\u001b[0m\u001b[0;34m\u001b[0m\u001b[0m\n",
            "\u001b[0;32m/usr/local/lib/python3.9/dist-packages/pandas/core/dtypes/cast.py\u001b[0m in \u001b[0;36mastype_nansafe\u001b[0;34m(arr, dtype, copy, skipna)\u001b[0m\n\u001b[1;32m   1179\u001b[0m     \u001b[0;32mif\u001b[0m \u001b[0mcopy\u001b[0m \u001b[0;32mor\u001b[0m \u001b[0mis_object_dtype\u001b[0m\u001b[0;34m(\u001b[0m\u001b[0marr\u001b[0m\u001b[0;34m.\u001b[0m\u001b[0mdtype\u001b[0m\u001b[0;34m)\u001b[0m \u001b[0;32mor\u001b[0m \u001b[0mis_object_dtype\u001b[0m\u001b[0;34m(\u001b[0m\u001b[0mdtype\u001b[0m\u001b[0;34m)\u001b[0m\u001b[0;34m:\u001b[0m\u001b[0;34m\u001b[0m\u001b[0;34m\u001b[0m\u001b[0m\n\u001b[1;32m   1180\u001b[0m         \u001b[0;31m# Explicit copy, or required since NumPy can't view from / to object.\u001b[0m\u001b[0;34m\u001b[0m\u001b[0;34m\u001b[0m\u001b[0m\n\u001b[0;32m-> 1181\u001b[0;31m         \u001b[0;32mreturn\u001b[0m \u001b[0marr\u001b[0m\u001b[0;34m.\u001b[0m\u001b[0mastype\u001b[0m\u001b[0;34m(\u001b[0m\u001b[0mdtype\u001b[0m\u001b[0;34m,\u001b[0m \u001b[0mcopy\u001b[0m\u001b[0;34m=\u001b[0m\u001b[0;32mTrue\u001b[0m\u001b[0;34m)\u001b[0m\u001b[0;34m\u001b[0m\u001b[0;34m\u001b[0m\u001b[0m\n\u001b[0m\u001b[1;32m   1182\u001b[0m \u001b[0;34m\u001b[0m\u001b[0m\n\u001b[1;32m   1183\u001b[0m     \u001b[0;32mreturn\u001b[0m \u001b[0marr\u001b[0m\u001b[0;34m.\u001b[0m\u001b[0mastype\u001b[0m\u001b[0;34m(\u001b[0m\u001b[0mdtype\u001b[0m\u001b[0;34m,\u001b[0m \u001b[0mcopy\u001b[0m\u001b[0;34m=\u001b[0m\u001b[0mcopy\u001b[0m\u001b[0;34m)\u001b[0m\u001b[0;34m\u001b[0m\u001b[0;34m\u001b[0m\u001b[0m\n",
            "\u001b[0;31mValueError\u001b[0m: could not convert string to float: '1,5'"
          ]
        }
      ]
    },
    {
      "cell_type": "code",
      "source": [
        "fill_mean('Age', data)\n",
        "fill_mean(\"Total years of experience\")\n",
        "fill_mean(\"Number of vacation days\")"
      ],
      "metadata": {
        "colab": {
          "base_uri": "https://localhost:8080/",
          "height": 201
        },
        "id": "S06IRlsbpGMW",
        "outputId": "44223bda-147d-4010-9461-529faef1eb80"
      },
      "execution_count": 53,
      "outputs": [
        {
          "output_type": "error",
          "ename": "TypeError",
          "evalue": "ignored",
          "traceback": [
            "\u001b[0;31m---------------------------------------------------------------------------\u001b[0m",
            "\u001b[0;31mTypeError\u001b[0m                                 Traceback (most recent call last)",
            "\u001b[0;32m<ipython-input-53-4d4c102f75fb>\u001b[0m in \u001b[0;36m<cell line: 2>\u001b[0;34m()\u001b[0m\n\u001b[1;32m      1\u001b[0m \u001b[0mfill_mean\u001b[0m\u001b[0;34m(\u001b[0m\u001b[0;34m'Age'\u001b[0m\u001b[0;34m,\u001b[0m \u001b[0mdata\u001b[0m\u001b[0;34m)\u001b[0m\u001b[0;34m\u001b[0m\u001b[0;34m\u001b[0m\u001b[0m\n\u001b[0;32m----> 2\u001b[0;31m \u001b[0mfill_mean\u001b[0m\u001b[0;34m(\u001b[0m\u001b[0;34m\"Total years of experience\"\u001b[0m\u001b[0;34m)\u001b[0m\u001b[0;34m\u001b[0m\u001b[0;34m\u001b[0m\u001b[0m\n\u001b[0m\u001b[1;32m      3\u001b[0m \u001b[0mfill_mean\u001b[0m\u001b[0;34m(\u001b[0m\u001b[0;34m\"Number of vacation days\"\u001b[0m\u001b[0;34m)\u001b[0m\u001b[0;34m\u001b[0m\u001b[0;34m\u001b[0m\u001b[0m\n",
            "\u001b[0;31mTypeError\u001b[0m: fill_mean() missing 1 required positional argument: 'data'"
          ]
        }
      ]
    }
  ]
}